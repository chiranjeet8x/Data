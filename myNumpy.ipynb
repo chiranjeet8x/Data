{
 "cells": [
  {
   "cell_type": "code",
   "execution_count": 5,
   "id": "c27ec42a-bf0e-422a-abcb-3731ff23620d",
   "metadata": {},
   "outputs": [],
   "source": [
    "import numpy as np\n"
   ]
  },
  {
   "cell_type": "code",
   "execution_count": 3,
   "id": "0fc525c4-726b-4cfc-8564-a460db4c1f88",
   "metadata": {},
   "outputs": [
    {
     "name": "stdout",
     "output_type": "stream",
     "text": [
      "[1 3 5 4 2 8]\n",
      "<class 'numpy.ndarray'>\n",
      "1\n"
     ]
    }
   ],
   "source": [
    "x = np.array([1,3,5,4,2,8])\n",
    "print(x)\n",
    "print(type(x))\n",
    "print(x.ndim)"
   ]
  },
  {
   "cell_type": "code",
   "execution_count": 13,
   "id": "4d809f4f-1459-4c7b-9bbd-5292cf7adb1b",
   "metadata": {},
   "outputs": [
    {
     "name": "stdout",
     "output_type": "stream",
     "text": [
      "[1, 23, 4, 5]\n",
      "<class 'list'>\n"
     ]
    }
   ],
   "source": [
    "y = [1,23,4,5]\n",
    "print(y)\n",
    "print(type(y))"
   ]
  },
  {
   "cell_type": "code",
   "execution_count": 15,
   "id": "b040d9be-f232-4544-b856-97346f0763bb",
   "metadata": {},
   "outputs": [
    {
     "name": "stdout",
     "output_type": "stream",
     "text": [
      "1.87 μs ± 210 ns per loop (mean ± std. dev. of 7 runs, 100,000 loops each)\n"
     ]
    }
   ],
   "source": [
    "%timeit [j**4 for j in range(1,9)]"
   ]
  },
  {
   "cell_type": "code",
   "execution_count": 19,
   "id": "047c2a5c-23b8-4cde-ad00-353bd5c5e293",
   "metadata": {},
   "outputs": [
    {
     "name": "stdout",
     "output_type": "stream",
     "text": [
      "5.01 μs ± 563 ns per loop (mean ± std. dev. of 7 runs, 100,000 loops each)\n"
     ]
    }
   ],
   "source": [
    "%timeit np.arange(1,9)**4"
   ]
  },
  {
   "cell_type": "code",
   "execution_count": 27,
   "id": "2ed03864-cf03-4757-bbd8-b01cb63e43d2",
   "metadata": {},
   "outputs": [
    {
     "name": "stdout",
     "output_type": "stream",
     "text": [
      "[1 2 3 4 5 6]\n"
     ]
    },
    {
     "data": {
      "text/plain": [
       "array([1, 2, 3, 4, 5, 6])"
      ]
     },
     "execution_count": 27,
     "metadata": {},
     "output_type": "execute_result"
    }
   ],
   "source": [
    "x = [1,2,3,4,5,6]\n",
    "y = np.array(x)\n",
    "print(y)\n",
    "y"
   ]
  },
  {
   "cell_type": "code",
   "execution_count": 38,
   "id": "8a6c938e-04de-43ce-8542-a8ac868ce48e",
   "metadata": {},
   "outputs": [
    {
     "name": "stdin",
     "output_type": "stream",
     "text": [
      "Enter Numebr:  3\n",
      "Enter Numebr:  4\n",
      "Enter Numebr:  5\n",
      "Enter Numebr:  6\n",
      "Enter Numebr:  7\n"
     ]
    },
    {
     "name": "stdout",
     "output_type": "stream",
     "text": [
      "[3 4 5 6 7]\n"
     ]
    }
   ],
   "source": [
    "l = []\n",
    "for i in range(1,6):\n",
    "    num = int(input(\"Enter Numebr: \"))\n",
    "    l.append(num)\n",
    "print(np.array(l))"
   ]
  },
  {
   "cell_type": "code",
   "execution_count": 46,
   "id": "8eec4109-bb09-47aa-93e0-0402e804aeb3",
   "metadata": {},
   "outputs": [
    {
     "name": "stdout",
     "output_type": "stream",
     "text": [
      "[[[1 2 3 4]]]\n",
      "3\n"
     ]
    }
   ],
   "source": [
    "x1 = np.array([[[1,2,3,4]]])\n",
    "print(x1)\n",
    "print(x1.ndim)"
   ]
  },
  {
   "cell_type": "markdown",
   "id": "18981617-3c35-4cba-85ba-7b9c9999590f",
   "metadata": {},
   "source": [
    "# 2D Array"
   ]
  },
  {
   "cell_type": "code",
   "execution_count": 56,
   "id": "502fbb57-d1e7-4557-b3b6-4ea4fc5f2b51",
   "metadata": {},
   "outputs": [
    {
     "name": "stdout",
     "output_type": "stream",
     "text": [
      "[[ 1  2  3  4  5]\n",
      " [ 6  7  8  9 10]]\n",
      "2\n"
     ]
    }
   ],
   "source": [
    "array2D = np.array([[1,2,3,4,5],[6,7,8,9,10]])\n",
    "print(array2D)\n",
    "print(array2D.ndim)"
   ]
  },
  {
   "cell_type": "markdown",
   "id": "aa4eec83-eb76-4fc4-8142-a09a3114badb",
   "metadata": {},
   "source": [
    "# 3D Array"
   ]
  },
  {
   "cell_type": "code",
   "execution_count": 59,
   "id": "53c26c68-2e92-4a00-b14a-897160f4f158",
   "metadata": {},
   "outputs": [
    {
     "name": "stdout",
     "output_type": "stream",
     "text": [
      "[[[1 2 3 4]\n",
      "  [1 2 3 4]\n",
      "  [1 2 3 4]]]\n",
      "3\n"
     ]
    }
   ],
   "source": [
    "array3D = np.array([[[1,2,3,4],[1,2,3,4],[1,2,3,4]]])\n",
    "print(array3D)\n",
    "print(array3D.ndim)"
   ]
  },
  {
   "cell_type": "code",
   "execution_count": 69,
   "id": "a3889cf2-1d42-44da-ad1c-cdad935aa07f",
   "metadata": {},
   "outputs": [
    {
     "name": "stdout",
     "output_type": "stream",
     "text": [
      "[[[[[[[[[[1 2 3 4]]]]]]]]]]\n",
      "10\n"
     ]
    }
   ],
   "source": [
    "arn = np.array([1,2,3,4], ndmin = 10)\n",
    "print(arn)\n",
    "print(arn.ndim)"
   ]
  },
  {
   "cell_type": "markdown",
   "id": "4d82a520-b2c4-4632-82da-0c972a5308c6",
   "metadata": {},
   "source": [
    "# Zero"
   ]
  },
  {
   "cell_type": "code",
   "execution_count": 92,
   "id": "0043210d-18c9-485d-8608-9c0fbdab44b8",
   "metadata": {},
   "outputs": [
    {
     "name": "stdout",
     "output_type": "stream",
     "text": [
      "[0. 0. 0. 0.]\n",
      "\n",
      "[[0. 0. 0. 0. 0.]\n",
      " [0. 0. 0. 0. 0.]\n",
      " [0. 0. 0. 0. 0.]\n",
      " [0. 0. 0. 0. 0.]]\n",
      "2\n"
     ]
    }
   ],
   "source": [
    "arr_zero = np.zeros(4)\n",
    "print(arr_zero)\n",
    "\n",
    "print()\n",
    "\n",
    "arr_zero1 = np.zeros((4,5))\n",
    "print(arr_zero1)\n",
    "print(arr_zero1.ndim)"
   ]
  },
  {
   "cell_type": "markdown",
   "id": "f890bc9c-5493-4ebb-8217-af9fadd5395b",
   "metadata": {},
   "source": [
    "# One"
   ]
  },
  {
   "cell_type": "code",
   "execution_count": 15,
   "id": "505dfbb4-59a5-4309-a2af-9c33df50b1da",
   "metadata": {},
   "outputs": [
    {
     "name": "stdout",
     "output_type": "stream",
     "text": [
      "[1. 1. 1. 1. 1. 1.]\n",
      "\n",
      "[[1. 1. 1. 1. 1. 1.]\n",
      " [1. 1. 1. 1. 1. 1.]\n",
      " [1. 1. 1. 1. 1. 1.]\n",
      " [1. 1. 1. 1. 1. 1.]\n",
      " [1. 1. 1. 1. 1. 1.]\n",
      " [1. 1. 1. 1. 1. 1.]]\n",
      "2\n"
     ]
    }
   ],
   "source": [
    "arr_one = np.ones(6)\n",
    "print(arr_one)\n",
    "\n",
    "print()\n",
    "\n",
    "arr_one1 = np.ones((6,6))\n",
    "print(arr_one1)\n",
    "print(arr_one1.ndim)"
   ]
  },
  {
   "cell_type": "markdown",
   "id": "39d7a3b6-a92c-4c86-ac78-1f28609522c4",
   "metadata": {},
   "source": [
    "# Empty Array"
   ]
  },
  {
   "cell_type": "code",
   "execution_count": 17,
   "id": "df4b4f8b-a2cc-4c37-b55b-4f6c2bdb2c79",
   "metadata": {},
   "outputs": [
    {
     "name": "stdout",
     "output_type": "stream",
     "text": [
      "[6.23042070e-307 4.67296746e-307 1.69121096e-306 2.37666896e-312]\n"
     ]
    }
   ],
   "source": [
    "arr_empty = np.empty(4)\n",
    "print(arr_empty)"
   ]
  },
  {
   "cell_type": "markdown",
   "id": "11e09c58-15b5-4909-af22-b7035bc28535",
   "metadata": {},
   "source": [
    "# Range Array"
   ]
  },
  {
   "cell_type": "code",
   "execution_count": 123,
   "id": "8e2c3d5b-b667-42d9-82a3-5f5e00dbc2a2",
   "metadata": {},
   "outputs": [
    {
     "name": "stdout",
     "output_type": "stream",
     "text": [
      "[0 1 2 3 4 5]\n",
      "\n",
      "[2 3 4 5 6 7 8]\n"
     ]
    }
   ],
   "source": [
    "arr_range = np.arange(6)\n",
    "print(arr_range)\n",
    "\n",
    "print()\n",
    "\n",
    "arr_range1 = np.arange(2,9)\n",
    "print(arr_range1)"
   ]
  },
  {
   "cell_type": "markdown",
   "id": "d4387a02-c435-43b4-a25b-0f25d7fd1253",
   "metadata": {},
   "source": [
    "# Diagonal"
   ]
  },
  {
   "cell_type": "code",
   "execution_count": 128,
   "id": "dc66a8b3-9b18-46b3-80ec-f97d44708dac",
   "metadata": {},
   "outputs": [
    {
     "name": "stdout",
     "output_type": "stream",
     "text": [
      "[[1. 0. 0.]\n",
      " [0. 1. 0.]\n",
      " [0. 0. 1.]]\n",
      "2\n"
     ]
    }
   ],
   "source": [
    "ar_dia = np.eye(3)\n",
    "print(ar_dia)\n",
    "print(ar_dia.ndim)"
   ]
  },
  {
   "cell_type": "code",
   "execution_count": 130,
   "id": "c195feeb-81f5-46d4-b387-308c82cccda2",
   "metadata": {},
   "outputs": [
    {
     "name": "stdout",
     "output_type": "stream",
     "text": [
      "[[1. 0. 0. 0. 0. 0.]\n",
      " [0. 1. 0. 0. 0. 0.]\n",
      " [0. 0. 1. 0. 0. 0.]\n",
      " [0. 0. 0. 1. 0. 0.]]\n",
      "2\n"
     ]
    }
   ],
   "source": [
    "ar_dia1 = np.eye(4,6)\n",
    "print(ar_dia1)\n",
    "print(ar_dia1.ndim)"
   ]
  },
  {
   "cell_type": "markdown",
   "id": "2fca15dd-4d22-489d-aabb-b03c0b3187b2",
   "metadata": {},
   "source": [
    "# Linespace"
   ]
  },
  {
   "cell_type": "code",
   "execution_count": 147,
   "id": "7dab0737-75b1-4253-b638-4c7517803959",
   "metadata": {},
   "outputs": [
    {
     "name": "stdout",
     "output_type": "stream",
     "text": [
      "[ 0.  5. 10. 15. 20.]\n"
     ]
    }
   ],
   "source": [
    "arr_lin = np.linspace(0,20,num=5)\n",
    "print(arr_lin)"
   ]
  },
  {
   "cell_type": "code",
   "execution_count": 151,
   "id": "058b18a4-8b07-4497-bcfc-e0d733c6a8c3",
   "metadata": {},
   "outputs": [
    {
     "name": "stdout",
     "output_type": "stream",
     "text": [
      "[ 0.   2.5  5.   7.5 10. ]\n"
     ]
    }
   ],
   "source": [
    "arr_lin1 = np.linspace(0,10,num=5)\n",
    "print(arr_lin1)"
   ]
  },
  {
   "cell_type": "code",
   "execution_count": null,
   "id": "fd05d5b8-36a1-4bbf-8c4e-128f73a65bda",
   "metadata": {},
   "outputs": [],
   "source": [
    "\n"
   ]
  },
  {
   "cell_type": "markdown",
   "id": "3bde5313-8220-416e-9455-d8e560a5d883",
   "metadata": {},
   "source": [
    "# Random Function"
   ]
  },
  {
   "cell_type": "markdown",
   "id": "3fee14ac-f5f3-4e7b-b07c-58f3915b27c5",
   "metadata": {},
   "source": [
    "## rand()"
   ]
  },
  {
   "cell_type": "code",
   "execution_count": 157,
   "id": "abacc97b-612a-4673-bd96-1a91dd154b99",
   "metadata": {},
   "outputs": [
    {
     "name": "stdout",
     "output_type": "stream",
     "text": [
      "[0.79642312 0.41487399 0.73496172 0.3083368 ]\n"
     ]
    }
   ],
   "source": [
    "arr_rand = np.random.rand(4)\n",
    "print(arr_rand)"
   ]
  },
  {
   "cell_type": "code",
   "execution_count": 163,
   "id": "cc5cbafb-ed02-44b0-b0c2-279e42176712",
   "metadata": {},
   "outputs": [
    {
     "name": "stdout",
     "output_type": "stream",
     "text": [
      "[[0.59693211 0.0466201  0.87445692 0.19445679 0.66840615]\n",
      " [0.86271861 0.34805487 0.74223423 0.66798497 0.36671436]]\n"
     ]
    }
   ],
   "source": [
    "arr_rand1 = np.random.rand(2,5)\n",
    "print(arr_rand1)"
   ]
  },
  {
   "cell_type": "markdown",
   "id": "e44c7943-7d03-43cb-a50f-8e62c5be9f70",
   "metadata": {},
   "source": [
    "## randn()"
   ]
  },
  {
   "cell_type": "code",
   "execution_count": 175,
   "id": "8d581b16-3cd2-4d62-b6a6-c9b4669defb7",
   "metadata": {},
   "outputs": [
    {
     "name": "stdout",
     "output_type": "stream",
     "text": [
      "[-0.27600066  0.47648089  0.24415637 -0.75674389 -0.87611168]\n"
     ]
    }
   ],
   "source": [
    "arr_randn = np.random.randn(5)\n",
    "print(arr_randn)"
   ]
  },
  {
   "cell_type": "markdown",
   "id": "73358138-e42f-4458-8640-23ecbb630c5b",
   "metadata": {},
   "source": [
    "## ranf()"
   ]
  },
  {
   "cell_type": "code",
   "execution_count": 178,
   "id": "85e0a318-d8cd-4581-a711-485c3ba35acd",
   "metadata": {},
   "outputs": [
    {
     "name": "stdout",
     "output_type": "stream",
     "text": [
      "[0.13067184 0.87402214 0.72089358 0.22379299]\n"
     ]
    }
   ],
   "source": [
    "arr_ranf = np.random.ranf(4)\n",
    "print(arr_ranf)"
   ]
  },
  {
   "cell_type": "markdown",
   "id": "d14fad74-4bd2-494e-beab-8b38380c8fb6",
   "metadata": {},
   "source": [
    "## randint(min, max, total_value)"
   ]
  },
  {
   "cell_type": "code",
   "execution_count": 185,
   "id": "3b580d7f-f24f-4efa-82d4-3d91405ef8b2",
   "metadata": {},
   "outputs": [
    {
     "name": "stdout",
     "output_type": "stream",
     "text": [
      "[18 19 14  6  6]\n"
     ]
    }
   ],
   "source": [
    "arr_randint = np.random.randint(5,20,5)\n",
    "print(arr_randint)"
   ]
  },
  {
   "cell_type": "code",
   "execution_count": null,
   "id": "3a095457-7881-431c-9a95-9ab547d8b0a3",
   "metadata": {},
   "outputs": [],
   "source": [
    "\n"
   ]
  },
  {
   "cell_type": "markdown",
   "id": "e13c15ca-e92e-40bd-848f-225c10e2077f",
   "metadata": {},
   "source": [
    "# DATA TYPE"
   ]
  },
  {
   "cell_type": "code",
   "execution_count": 7,
   "id": "fb56d5e8-9009-4310-a2e1-e8a2b2d63eec",
   "metadata": {},
   "outputs": [
    {
     "name": "stdout",
     "output_type": "stream",
     "text": [
      "Data Type:  int64\n"
     ]
    }
   ],
   "source": [
    "var = np.array([1,2,3,4,5])\n",
    "print(\"Data Type: \", var.dtype)"
   ]
  },
  {
   "cell_type": "code",
   "execution_count": 25,
   "id": "4f7da232-bf76-4b41-9dee-2a186369cf08",
   "metadata": {},
   "outputs": [
    {
     "name": "stdout",
     "output_type": "stream",
     "text": [
      "Data Type:  float64\n"
     ]
    }
   ],
   "source": [
    "var = np.array([1.0, 2.3, 3.0, 4.0, 5.0])\n",
    "print(\"Data Type: \", var.dtype)"
   ]
  },
  {
   "cell_type": "code",
   "execution_count": 27,
   "id": "39380560-1b1f-421b-bb5b-87b35f51f326",
   "metadata": {},
   "outputs": [
    {
     "name": "stdout",
     "output_type": "stream",
     "text": [
      "Data Type:  <U1\n"
     ]
    }
   ],
   "source": [
    "var = np.array([\"A\", \"C\", \"D\"])\n",
    "print(\"Data Type: \", var.dtype)"
   ]
  },
  {
   "cell_type": "code",
   "execution_count": 75,
   "id": "c4538a58-328b-491b-8d95-d46e4ac490b6",
   "metadata": {},
   "outputs": [
    {
     "name": "stdout",
     "output_type": "stream",
     "text": [
      "[ 1.+0.j  2.+0.j  3.+0.j  4.+0.j  5.+0.j  0.+0.j -7.+0.j]\n",
      "Data Type:  complex128\n"
     ]
    }
   ],
   "source": [
    "var = np.array([1,2,3,4,5,0,-7], dtype = np.complex_)\n",
    "print(var)\n",
    "print(\"Data Type: \", var.dtype)"
   ]
  },
  {
   "cell_type": "code",
   "execution_count": null,
   "id": "63624caa-fe99-41c2-b342-d0012896e4bb",
   "metadata": {},
   "outputs": [],
   "source": [
    "\n",
    "\n"
   ]
  },
  {
   "cell_type": "markdown",
   "id": "2ef03ef4-fbe3-48d5-a371-bb8d876404a5",
   "metadata": {},
   "source": [
    "# Shape"
   ]
  },
  {
   "cell_type": "code",
   "execution_count": 9,
   "id": "ac475198-c8b3-4f07-a9ec-29b046e3256d",
   "metadata": {},
   "outputs": [
    {
     "name": "stdout",
     "output_type": "stream",
     "text": [
      "[[1 2]\n",
      " [1 2]]\n",
      "\n",
      "(2, 2)\n"
     ]
    }
   ],
   "source": [
    "arr = np.array([[1,2],[1,2]])\n",
    "print(arr)\n",
    "print()\n",
    "\n",
    "print(arr.shape)"
   ]
  },
  {
   "cell_type": "code",
   "execution_count": 11,
   "id": "86e1e20b-c324-414c-b5cc-add9132f6550",
   "metadata": {},
   "outputs": [
    {
     "name": "stdout",
     "output_type": "stream",
     "text": [
      "[[1 2 3 4]\n",
      " [5 6 7 8]]\n",
      "\n",
      "(2, 4)\n"
     ]
    }
   ],
   "source": [
    "arr = np.array([[1,2,3,4],[5,6,7,8]])\n",
    "print(arr)\n",
    "print()\n",
    "\n",
    "print(arr.shape)"
   ]
  },
  {
   "cell_type": "markdown",
   "id": "7fdf24a0-444f-478d-9a8b-9ffbc18b8d38",
   "metadata": {},
   "source": [
    "n Dimension array"
   ]
  },
  {
   "cell_type": "code",
   "execution_count": 16,
   "id": "bd51866e-6003-4996-a35c-9212b139b008",
   "metadata": {},
   "outputs": [
    {
     "name": "stdout",
     "output_type": "stream",
     "text": [
      "[[[[[1 2 3 4]]]]]\n",
      "5\n",
      "\n",
      "(1, 1, 1, 1, 4)\n"
     ]
    }
   ],
   "source": [
    "arr = np.array([1,2,3,4], ndmin=5)\n",
    "print(arr)\n",
    "print(arr.ndim)\n",
    "print()\n",
    "\n",
    "print(arr.shape)"
   ]
  },
  {
   "cell_type": "markdown",
   "id": "da531e31-ffee-4045-b498-dbfaefde6633",
   "metadata": {},
   "source": [
    "# Reshape"
   ]
  },
  {
   "cell_type": "code",
   "execution_count": 23,
   "id": "14a2efd3-0cf4-414b-b708-6536b4dfcf24",
   "metadata": {},
   "outputs": [
    {
     "name": "stdout",
     "output_type": "stream",
     "text": [
      "[[1 2 3]\n",
      " [4 5 6]]\n",
      "\n",
      "[[1 2]\n",
      " [3 4]\n",
      " [5 6]\n",
      " [7 8]]\n"
     ]
    }
   ],
   "source": [
    "arr = np.array([1,2,3,4,5,6])\n",
    "print(arr.reshape(2,3))\n",
    "print()\n",
    "\n",
    "arr1 = np.array([1,2,3,4,5,6,7,8])\n",
    "print(arr1.reshape(4,2))"
   ]
  },
  {
   "cell_type": "code",
   "execution_count": null,
   "id": "50b4df79-1d02-47e0-a85d-801590d25eb2",
   "metadata": {},
   "outputs": [],
   "source": [
    "\n"
   ]
  },
  {
   "cell_type": "markdown",
   "id": "338481ae-b69d-4855-806e-b4409a7c5d8c",
   "metadata": {},
   "source": [
    "# Arithematic Operation"
   ]
  },
  {
   "cell_type": "markdown",
   "id": "e84d550c-167a-4187-8f04-a33b9ccc10a5",
   "metadata": {},
   "source": [
    "## Addition (+)"
   ]
  },
  {
   "cell_type": "code",
   "execution_count": 1,
   "id": "3387caf1-db9f-4efc-a7fb-10bb39bf2ab3",
   "metadata": {},
   "outputs": [],
   "source": [
    "import numpy as np"
   ]
  },
  {
   "cell_type": "code",
   "execution_count": 2,
   "id": "447ff08c-2a8e-429b-9b42-9c6db2d77e9f",
   "metadata": {},
   "outputs": [
    {
     "name": "stdout",
     "output_type": "stream",
     "text": [
      "[4 5 6 7]\n"
     ]
    }
   ],
   "source": [
    "arr = np.array([1,2,3,4])\n",
    "sum = arr + 3\n",
    "print(sum)"
   ]
  },
  {
   "cell_type": "code",
   "execution_count": 3,
   "id": "b3ef66ee-2dee-407b-aa34-804a16c0ec07",
   "metadata": {},
   "outputs": [
    {
     "name": "stdout",
     "output_type": "stream",
     "text": [
      "[2 4 6 8]\n"
     ]
    }
   ],
   "source": [
    "arr1 = np.array([1,2,3,4])\n",
    "arr2 = np.array([1,2,3,4])\n",
    "sum = arr1 + arr2\n",
    "print(sum)"
   ]
  },
  {
   "cell_type": "markdown",
   "id": "25c17437-65f0-4422-95da-f690c64ac95d",
   "metadata": {},
   "source": [
    "### or"
   ]
  },
  {
   "cell_type": "code",
   "execution_count": 18,
   "id": "0f1ca353-e2e1-4dd3-bb7f-8b9c196b2b31",
   "metadata": {},
   "outputs": [
    {
     "name": "stdout",
     "output_type": "stream",
     "text": [
      "[2 4 6 8]\n"
     ]
    }
   ],
   "source": [
    "arr1 = np.array([1,2,3,4])\n",
    "arr2 = np.array([1,2,3,4])\n",
    "sum = np.add(arr1,arr2)\n",
    "print(sum)"
   ]
  },
  {
   "cell_type": "markdown",
   "id": "f9e5af09-9d32-4472-9257-07e564916b50",
   "metadata": {},
   "source": [
    "### Add 2D Array"
   ]
  },
  {
   "cell_type": "code",
   "execution_count": 10,
   "id": "e558ec2a-d84c-4118-aa93-59d7fd36916c",
   "metadata": {},
   "outputs": [
    {
     "name": "stdout",
     "output_type": "stream",
     "text": [
      "[[1 2 3 4]\n",
      " [1 2 3 4]]\n",
      "[[1 2 3 4]\n",
      " [1 2 3 4]]\n",
      "\n",
      "[[2 4 6 8]\n",
      " [2 4 6 8]]\n"
     ]
    }
   ],
   "source": [
    "arr1 = np.array([[1,2,3,4],[1,2,3,4]])\n",
    "arr2 = np.array([[1,2,3,4],[1,2,3,4]])\n",
    "print(arr1)\n",
    "print(arr2)\n",
    "print()\n",
    "sum = np.add(arr1,arr2)\n",
    "print(sum)"
   ]
  },
  {
   "cell_type": "markdown",
   "id": "79604b2c-b472-4900-a162-fbf92da2b874",
   "metadata": {},
   "source": [
    "## Subtraction (-)"
   ]
  },
  {
   "cell_type": "code",
   "execution_count": 2,
   "id": "11c08512-4a8a-4823-99f1-61c4cfcb50bc",
   "metadata": {},
   "outputs": [
    {
     "name": "stdout",
     "output_type": "stream",
     "text": [
      "[-1  0  1  2]\n"
     ]
    }
   ],
   "source": [
    "arr = np.array([1,2,3,4])\n",
    "sub = arr - 2\n",
    "print(sub)"
   ]
  },
  {
   "cell_type": "code",
   "execution_count": 6,
   "id": "d49fb266-21fd-4b66-b088-55b90564f38f",
   "metadata": {},
   "outputs": [
    {
     "name": "stdout",
     "output_type": "stream",
     "text": [
      "[0 0 0 0]\n",
      "\n",
      "[0 0 0 0]\n"
     ]
    }
   ],
   "source": [
    "arr1 = np.array([1,2,3,4])\n",
    "arr2 = np.array([1,2,3,4])\n",
    "sub = arr1 - arr2\n",
    "print(sub)\n",
    "print()\n",
    "sub2 = np.subtract(arr1,arr2)\n",
    "print(sub2)"
   ]
  },
  {
   "cell_type": "markdown",
   "id": "ca3dd976-8a87-47a2-9d10-84d2ac67b988",
   "metadata": {
    "jp-MarkdownHeadingCollapsed": true
   },
   "source": [
    "## Multiplication (*)"
   ]
  },
  {
   "cell_type": "code",
   "execution_count": 7,
   "id": "eb77332f-d3c1-4039-bf87-2d39a670d9a0",
   "metadata": {},
   "outputs": [
    {
     "name": "stdout",
     "output_type": "stream",
     "text": [
      "[2 4 6 8]\n"
     ]
    }
   ],
   "source": [
    "arr = np.array([1,2,3,4])\n",
    "multi = arr * 2\n",
    "print(multi)"
   ]
  },
  {
   "cell_type": "code",
   "execution_count": 11,
   "id": "bce6f876-7616-4998-bda2-d88deccbc710",
   "metadata": {},
   "outputs": [
    {
     "name": "stdout",
     "output_type": "stream",
     "text": [
      "[ 5 12 21 32]\n"
     ]
    }
   ],
   "source": [
    "arr1 = np.array([1,2,3,4])\n",
    "arr2 = np.array([5,6,7,8])\n",
    "multi = arr1 * arr2\n",
    "print(multi)"
   ]
  },
  {
   "cell_type": "markdown",
   "id": "81e30066-9f59-4563-97e8-a79f04a09546",
   "metadata": {},
   "source": [
    "### Multiply 2D Array"
   ]
  },
  {
   "cell_type": "code",
   "execution_count": 12,
   "id": "990323da-9498-49b0-b4a6-17eac3174c58",
   "metadata": {},
   "outputs": [
    {
     "name": "stdout",
     "output_type": "stream",
     "text": [
      "[[1 2 3 4]\n",
      " [1 2 3 4]]\n",
      "[[1 2 3 4]\n",
      " [1 2 3 4]]\n",
      "\n",
      "[[ 1  4  9 16]\n",
      " [ 1  4  9 16]]\n"
     ]
    }
   ],
   "source": [
    "arr1 = np.array([[1,2,3,4],[1,2,3,4]])\n",
    "arr2 = np.array([[1,2,3,4],[1,2,3,4]])\n",
    "print(arr1)\n",
    "print(arr2)\n",
    "print()\n",
    "mul = np.multiply(arr1,arr2)\n",
    "print(mul)"
   ]
  },
  {
   "cell_type": "markdown",
   "id": "ca25b0e0-9146-4d36-afeb-3e8096245fc5",
   "metadata": {
    "jp-MarkdownHeadingCollapsed": true
   },
   "source": [
    "## Division (/)"
   ]
  },
  {
   "cell_type": "code",
   "execution_count": 13,
   "id": "3a717570-2869-4765-8b08-562110570144",
   "metadata": {},
   "outputs": [
    {
     "name": "stdout",
     "output_type": "stream",
     "text": [
      "[0.5 1.  1.5 2. ]\n"
     ]
    }
   ],
   "source": [
    "arr = np.array([1,2,3,4])\n",
    "div = arr / 2\n",
    "print(div)"
   ]
  },
  {
   "cell_type": "code",
   "execution_count": 15,
   "id": "ecb158db-da3d-4a97-b075-c01fcc0a1f6a",
   "metadata": {},
   "outputs": [
    {
     "name": "stdout",
     "output_type": "stream",
     "text": [
      "[2. 2. 2. 2.]\n"
     ]
    }
   ],
   "source": [
    "arr1 = np.array([2,4,6,8])\n",
    "arr2 = np.array([1,2,3,4])\n",
    "div = arr1 /arr2\n",
    "print(div)"
   ]
  },
  {
   "cell_type": "markdown",
   "id": "c54741b1-a030-4c02-a9fb-c5c68409bfa7",
   "metadata": {},
   "source": [
    "## Modulus"
   ]
  },
  {
   "cell_type": "code",
   "execution_count": 17,
   "id": "1126c4b6-555a-41aa-a32f-b17a0d6e6219",
   "metadata": {},
   "outputs": [
    {
     "name": "stdout",
     "output_type": "stream",
     "text": [
      "[0 0 2 2]\n"
     ]
    }
   ],
   "source": [
    "arr1 = np.array([3,4,5,10])\n",
    "arr2 = np.array([1,2,3,4])\n",
    "mod = arr1 % arr2\n",
    "print(mod)"
   ]
  },
  {
   "cell_type": "code",
   "execution_count": null,
   "id": "02daf501-3f42-49bc-b728-c90858d6ed1f",
   "metadata": {},
   "outputs": [],
   "source": [
    "\n"
   ]
  },
  {
   "cell_type": "markdown",
   "id": "bafaf1c3-2d51-4d82-a038-ff858c1e6052",
   "metadata": {},
   "source": [
    "# Arithmetic Funtion"
   ]
  },
  {
   "cell_type": "code",
   "execution_count": 45,
   "id": "ccdba12b-fe82-41e6-8ebb-733ef0f55b7e",
   "metadata": {},
   "outputs": [
    {
     "name": "stdout",
     "output_type": "stream",
     "text": [
      "Minimun Value:  0 5\n",
      "Maximun Value:  7 6\n",
      "Sqrt Value:  [1.         1.41421356 1.73205081 2.         2.23606798 0.\n",
      " 2.64575131 1.73205081 1.        ]\n",
      "cumsum Value:  [ 1  3  6 10]\n",
      "sin Value:  [ 0.84147098  0.90929743  0.14112001 -0.7568025 ]\n",
      "cos Value:  [ 0.54030231 -0.41614684 -0.9899925  -0.65364362]\n"
     ]
    }
   ],
   "source": [
    "arr = np.array([1,2,3,4,5,0,7,3,1])\n",
    "print(\"Minimun Value: \",np.min(arr), np.argmin(arr))\n",
    "print(\"Maximun Value: \",np.max(arr), np.argmax(arr))\n",
    "print(\"Sqrt Value: \",np.sqrt(arr))\n",
    "\n",
    "arr11 = np.array([1,2,3,4])\n",
    "print(\"cumsum Value: \",np.cumsum(arr11))\n",
    "print(\"sin Value: \",np.sin(arr11))\n",
    "print(\"cos Value: \",np.cos(arr11))"
   ]
  },
  {
   "cell_type": "code",
   "execution_count": null,
   "id": "fd5fde13-093e-4437-97b1-d3a1cad41772",
   "metadata": {},
   "outputs": [],
   "source": []
  },
  {
   "cell_type": "code",
   "execution_count": 29,
   "id": "f352a00c-d0e5-4e43-9fab-f33b122ac5fc",
   "metadata": {},
   "outputs": [
    {
     "name": "stdout",
     "output_type": "stream",
     "text": [
      "[[ 4 25 36 14]\n",
      " [11 92  3 40]]\n",
      "\n",
      "[ 4 25  3 14]\n",
      "[4 3]\n"
     ]
    }
   ],
   "source": [
    "arr1 = np.array([[4,25,36,14],[11,92,3,40]])\n",
    "print(arr1)\n",
    "print()\n",
    "print(np.min(arr1, axis=0))\n",
    "print(np.min(arr1, axis=1))"
   ]
  },
  {
   "cell_type": "code",
   "execution_count": 65,
   "id": "01428cb8-e31e-4023-b174-ca471dab024c",
   "metadata": {},
   "outputs": [
    {
     "name": "stdout",
     "output_type": "stream",
     "text": [
      "[[[  4  25  36  14]\n",
      "  [ 56  60  23 100]\n",
      "  [ 11  92   3  40]]] \n",
      " 3\n",
      "\n",
      "[[  4  25  36  14]\n",
      " [ 56  60  23 100]\n",
      " [ 11  92   3  40]]\n",
      "\n",
      "[[ 4 25  3 14]]\n"
     ]
    }
   ],
   "source": [
    "arr1 = np.array([[[4,25,36,14],[56,60,23,100],[11,92,3,40]]])\n",
    "print(arr1,\"\\n\", arr1.ndim)\n",
    "print()\n",
    "print(np.min(arr1, axis=0))   # axix = 0 (Row)\n",
    "print()\n",
    "print(np.min(arr1, axis=1))   # axix = 1 (Column)"
   ]
  },
  {
   "cell_type": "code",
   "execution_count": null,
   "id": "90690349-863f-4b32-bb8c-cfa84d989aee",
   "metadata": {},
   "outputs": [],
   "source": [
    "\n",
    "\n"
   ]
  },
  {
   "cell_type": "markdown",
   "id": "4a325285-29c9-4795-8287-da5556b5850b",
   "metadata": {},
   "source": [
    "# Broadcasting in Numpy"
   ]
  },
  {
   "cell_type": "code",
   "execution_count": 60,
   "id": "2bd096c4-83ce-4d04-b460-e28a9788b217",
   "metadata": {},
   "outputs": [
    {
     "name": "stdout",
     "output_type": "stream",
     "text": [
      "[1 2 3]\n",
      "(3,)\n",
      "\n",
      "[[1]\n",
      " [2]\n",
      " [3]]\n",
      "(3, 1)\n",
      "\n",
      "[[2 3 4]\n",
      " [3 4 5]\n",
      " [4 5 6]]\n"
     ]
    }
   ],
   "source": [
    "arr1 = np.array([1,2,3])\n",
    "print(arr1)\n",
    "print(arr1.shape)\n",
    "print()\n",
    "\n",
    "arr2 = np.array([[1],[2],[3]])\n",
    "print(arr2)\n",
    "print(arr2.shape)\n",
    "print()\n",
    "print(arr1 + arr2)"
   ]
  },
  {
   "cell_type": "code",
   "execution_count": null,
   "id": "cde49642-95d5-4e21-873a-41c591f7d95f",
   "metadata": {},
   "outputs": [],
   "source": []
  },
  {
   "cell_type": "code",
   "execution_count": 61,
   "id": "4712bd81-e7f3-4b0a-b3f6-06e09c31aae5",
   "metadata": {},
   "outputs": [
    {
     "name": "stdout",
     "output_type": "stream",
     "text": [
      "[1 2 3 4 5 6]\n",
      "(6,)\n",
      "\n",
      "[[1]\n",
      " [2]\n",
      " [3]]\n",
      "(3, 1)\n",
      "\n",
      "[[2 3 4 5 6 7]\n",
      " [3 4 5 6 7 8]\n",
      " [4 5 6 7 8 9]]\n"
     ]
    }
   ],
   "source": [
    "arr1 = np.array([1,2,3,4,5,6])\n",
    "print(arr1)\n",
    "print(arr1.shape)\n",
    "print()\n",
    "\n",
    "arr2 = np.array([[1],[2],[3]])\n",
    "print(arr2)\n",
    "print(arr2.shape)\n",
    "print()\n",
    "\n",
    "print(arr1 + arr2)"
   ]
  },
  {
   "cell_type": "code",
   "execution_count": null,
   "id": "b1e7936f-ae78-47dc-b52e-3c40df9e6c3e",
   "metadata": {},
   "outputs": [],
   "source": []
  },
  {
   "cell_type": "code",
   "execution_count": 67,
   "id": "4c385784-baa9-4a4b-b555-d7a3977bbbee",
   "metadata": {},
   "outputs": [
    {
     "name": "stdout",
     "output_type": "stream",
     "text": [
      "[1 2 3]\n",
      "(3,)\n",
      "\n",
      "[[1]\n",
      " [2]\n",
      " [3]\n",
      " [4]]\n",
      "(4, 1)\n",
      "\n",
      "[[2 3 4]\n",
      " [3 4 5]\n",
      " [4 5 6]\n",
      " [5 6 7]]\n"
     ]
    }
   ],
   "source": [
    "arr1 = np.array([1,2,3])\n",
    "print(arr1)\n",
    "print(arr1.shape)\n",
    "print()\n",
    "\n",
    "arr2 = np.array([[1],[2],[3],[4]])\n",
    "print(arr2)\n",
    "print(arr2.shape)\n",
    "print()\n",
    "\n",
    "print(arr1 + arr2)"
   ]
  },
  {
   "cell_type": "code",
   "execution_count": null,
   "id": "419d58b5-f78f-4515-8e35-94c58068cff1",
   "metadata": {},
   "outputs": [],
   "source": []
  },
  {
   "cell_type": "markdown",
   "id": "b0e0a2a4-925c-4de5-a07f-1ed6b2dc7476",
   "metadata": {},
   "source": [
    "# Indexing Numpy Array"
   ]
  },
  {
   "cell_type": "markdown",
   "id": "a55203db-05da-4a5b-b63f-3a5bca8de381",
   "metadata": {},
   "source": [
    "#### 1-D Array"
   ]
  },
  {
   "cell_type": "code",
   "execution_count": 7,
   "id": "95ae7f82-b5f6-42cb-85ab-8edf911a7808",
   "metadata": {},
   "outputs": [
    {
     "name": "stdout",
     "output_type": "stream",
     "text": [
      "2\n",
      "2\n"
     ]
    }
   ],
   "source": [
    "arr = np.array([8,4,0,2,6])\n",
    "#               0 1 2 3 4 \n",
    "#              -5-4-3-2-1\n",
    "\n",
    "print(arr[3])\n",
    "print(arr[-2])"
   ]
  },
  {
   "cell_type": "markdown",
   "id": "d0bc5afa-7a22-4afe-9a3b-29374261537a",
   "metadata": {},
   "source": [
    "#### 2-D Array"
   ]
  },
  {
   "cell_type": "code",
   "execution_count": 17,
   "id": "5f16ac19-6151-4873-b9cb-33d05af1fb05",
   "metadata": {},
   "outputs": [
    {
     "name": "stdout",
     "output_type": "stream",
     "text": [
      "[[2 3 5]\n",
      " [9 4 8]]\n",
      "2\n",
      "8\n"
     ]
    }
   ],
   "source": [
    "arr1 = np.array([[2,3,5],[9,4,8]])\n",
    "print(arr1)\n",
    "print(arr1.ndim)\n",
    "print(arr1[1,2])"
   ]
  },
  {
   "cell_type": "markdown",
   "id": "70025447-6cc7-44dd-a37f-31e448cdb8a5",
   "metadata": {},
   "source": [
    "#### 3-D Array"
   ]
  },
  {
   "cell_type": "code",
   "execution_count": 26,
   "id": "39a6d095-16f4-4183-a1a0-24b8e4230840",
   "metadata": {},
   "outputs": [
    {
     "name": "stdout",
     "output_type": "stream",
     "text": [
      "[[[1 3 2]\n",
      "  [4 7 0]\n",
      "  [9 6 8]]]\n",
      "3\n",
      "6\n"
     ]
    }
   ],
   "source": [
    "arr2 = np.array([[[1,3,2],[4,7,0],[9,6,8]]])\n",
    "print(arr2)\n",
    "print(arr2.ndim)\n",
    "print(arr2[0,2,1])"
   ]
  },
  {
   "cell_type": "code",
   "execution_count": null,
   "id": "871033c3-1776-4811-ba6b-af84b1e9a5b2",
   "metadata": {},
   "outputs": [],
   "source": []
  },
  {
   "cell_type": "markdown",
   "id": "128b797f-607c-4140-a927-36179bb5f55f",
   "metadata": {},
   "source": [
    "# Slicing Numpy Array"
   ]
  },
  {
   "cell_type": "markdown",
   "id": "89d9f2f3-66ea-46a8-9c4b-a6ae97a6cb5c",
   "metadata": {},
   "source": [
    "#### 1-D Array"
   ]
  },
  {
   "cell_type": "code",
   "execution_count": 48,
   "id": "bcd89d48-93b5-4bdd-9dcf-3f94a2e282a4",
   "metadata": {},
   "outputs": [
    {
     "name": "stdout",
     "output_type": "stream",
     "text": [
      "[1 2 3 4 5 6 7 8 9 0]\n",
      "\n",
      "3 to 8:  [3 4 5 6 7 8]\n",
      "2 to End:  [2 3 4 5 6 7 8 9 0]\n",
      "Start to 7: [1 2 3 4 5 6 7]\n",
      "Stop:  [1 3 5 7 9]\n",
      "Stop:  [3 5 7]\n"
     ]
    }
   ],
   "source": [
    "arr = np.array([1,2,3,4,5,6,7,8,9,0])\n",
    "print(arr)\n",
    "print()\n",
    "print(\"3 to 8: \", arr[2:8])\n",
    "print(\"2 to End: \", arr[1:])\n",
    "print(\"Start to 7:\", arr[:7])\n",
    "print(\"Stop: \", arr[::2])\n",
    "print(\"Stop: \", arr[2:8:2])"
   ]
  },
  {
   "cell_type": "markdown",
   "id": "918badf2-d78d-48ef-8ae1-c698abdbe078",
   "metadata": {},
   "source": [
    "#### 2-D Array"
   ]
  },
  {
   "cell_type": "code",
   "execution_count": 68,
   "id": "c8320ab0-ff87-4fe5-a79a-61363da47765",
   "metadata": {},
   "outputs": [
    {
     "name": "stdout",
     "output_type": "stream",
     "text": [
      "[[23 55 78 44 36]\n",
      " [77 10 90 50 20]]\n",
      "\n",
      "[44 36]\n",
      "[90 50 20]\n",
      "[10 90 50 20]\n"
     ]
    }
   ],
   "source": [
    "arr1 = np.array([[23,55,78,44,36],[77,10,90,50,20]])\n",
    "print(arr1)\n",
    "print()\n",
    "print(arr1[0,3:])\n",
    "print(arr1[1,2:])\n",
    "print(arr1[1,1:5])"
   ]
  },
  {
   "cell_type": "code",
   "execution_count": null,
   "id": "ff025d83-ec35-49c4-b311-7b5d55ccfbea",
   "metadata": {},
   "outputs": [],
   "source": []
  },
  {
   "cell_type": "markdown",
   "id": "a15cf4a7-76e0-4cd3-8994-2fcab2107e83",
   "metadata": {},
   "source": [
    "# Iterating Numpay Array"
   ]
  },
  {
   "cell_type": "markdown",
   "id": "8575f18f-d1e1-45e2-832d-4da1d94c1911",
   "metadata": {},
   "source": [
    "### For-Loop"
   ]
  },
  {
   "cell_type": "code",
   "execution_count": 87,
   "id": "edbe1d87-d8da-435d-be77-3065d4633f43",
   "metadata": {},
   "outputs": [
    {
     "name": "stdout",
     "output_type": "stream",
     "text": [
      "[4 6 8 0 1 3 5 7 1]\n",
      "\n",
      "4\n",
      "6\n",
      "8\n",
      "0\n",
      "1\n",
      "3\n",
      "5\n",
      "7\n",
      "1\n"
     ]
    }
   ],
   "source": [
    "arr = np.array([4,6,8,0,1,3,5,7,1])\n",
    "print(arr)\n",
    "print()\n",
    "\n",
    "for i in arr:\n",
    "    print(i)"
   ]
  },
  {
   "cell_type": "code",
   "execution_count": 93,
   "id": "b84669f5-a23b-48b6-9ae8-fa2858145b96",
   "metadata": {},
   "outputs": [
    {
     "name": "stdout",
     "output_type": "stream",
     "text": [
      "[[1 2 3 4]\n",
      " [6 7 8 9]]\n",
      "\n",
      "[1 2 3 4]\n",
      "[6 7 8 9]\n",
      "\n",
      "1\n",
      "2\n",
      "3\n",
      "4\n",
      "6\n",
      "7\n",
      "8\n",
      "9\n"
     ]
    }
   ],
   "source": [
    "arr1 = np.array([[1,2,3,4],[6,7,8,9]])\n",
    "print(arr1)\n",
    "print()\n",
    "\n",
    "for i in arr1:\n",
    "    print(i)\n",
    "\n",
    "print()\n",
    "\n",
    "for j in arr1:\n",
    "    for k in j:\n",
    "        print(k)"
   ]
  },
  {
   "cell_type": "code",
   "execution_count": 99,
   "id": "a8f42602-5fa0-4909-b00a-ca55b33c6371",
   "metadata": {},
   "outputs": [
    {
     "name": "stdout",
     "output_type": "stream",
     "text": [
      "[[[1 2 3 4]\n",
      "  [6 7 8 9]]]\n",
      "3\n",
      "\n",
      "1\n",
      "2\n",
      "3\n",
      "4\n",
      "6\n",
      "7\n",
      "8\n",
      "9\n"
     ]
    }
   ],
   "source": [
    "arr2 = np.array([[[1,2,3,4],[6,7,8,9]]])\n",
    "print(arr2)\n",
    "print(arr2.ndim)\n",
    "print()\n",
    "\n",
    "for i in arr2:\n",
    "    for j in i:\n",
    "        for k in j:\n",
    "            print(k)"
   ]
  },
  {
   "cell_type": "markdown",
   "id": "b62760b3-bea9-4528-ab96-aa3a9b6e74cc",
   "metadata": {},
   "source": [
    "### np.nditer() it used for instead of for-loop"
   ]
  },
  {
   "cell_type": "code",
   "execution_count": 103,
   "id": "2040ebe3-d2a5-4ef4-a99d-095b0d49a326",
   "metadata": {},
   "outputs": [
    {
     "name": "stdout",
     "output_type": "stream",
     "text": [
      "1\n",
      "2\n",
      "3\n",
      "4\n",
      "6\n",
      "7\n",
      "8\n",
      "9\n"
     ]
    }
   ],
   "source": [
    "arr3 = np.array([[[1,2,3,4],[6,7,8,9]]])\n",
    "\n",
    "for i in np.nditer(arr3):\n",
    "    print()"
   ]
  },
  {
   "cell_type": "code",
   "execution_count": 113,
   "id": "bf65b81e-3dab-4005-9d6a-3eee4006174e",
   "metadata": {},
   "outputs": [
    {
     "name": "stdout",
     "output_type": "stream",
     "text": [
      "b'1'\n",
      "b'2'\n",
      "b'3'\n",
      "b'4'\n",
      "b'6'\n",
      "b'7'\n",
      "b'8'\n",
      "b'9'\n"
     ]
    }
   ],
   "source": [
    "arr3 = np.array([[[1,2,3,4],[6,7,8,9]]])\n",
    "\n",
    "for i in np.nditer(arr3, flags=['buffered'],op_dtypes=[\"S\"]):\n",
    "    print(i)"
   ]
  },
  {
   "cell_type": "markdown",
   "id": "7ff26426-83f0-4c56-9d16-9d692ce8dc33",
   "metadata": {},
   "source": [
    "### np.ndenumerate()"
   ]
  },
  {
   "cell_type": "code",
   "execution_count": 117,
   "id": "79c3f934-9aeb-4561-abed-bf04c6e63a43",
   "metadata": {},
   "outputs": [
    {
     "name": "stdout",
     "output_type": "stream",
     "text": [
      "(0, 0, 0) 1\n",
      "(0, 0, 1) 2\n",
      "(0, 0, 2) 3\n",
      "(0, 0, 3) 4\n",
      "(0, 1, 0) 6\n",
      "(0, 1, 1) 7\n",
      "(0, 1, 2) 8\n",
      "(0, 1, 3) 9\n"
     ]
    }
   ],
   "source": [
    "arr3 = np.array([[[1,2,3,4],[6,7,8,9]]])\n",
    "\n",
    "for i,d in np.ndenumerate(arr3):\n",
    "    print(i,d)"
   ]
  },
  {
   "cell_type": "code",
   "execution_count": null,
   "id": "0775cf30-f7f2-4ca5-a77a-f010b5283690",
   "metadata": {},
   "outputs": [],
   "source": []
  }
 ],
 "metadata": {
  "kernelspec": {
   "display_name": "Python [conda env:base] *",
   "language": "python",
   "name": "conda-base-py"
  },
  "language_info": {
   "codemirror_mode": {
    "name": "ipython",
    "version": 3
   },
   "file_extension": ".py",
   "mimetype": "text/x-python",
   "name": "python",
   "nbconvert_exporter": "python",
   "pygments_lexer": "ipython3",
   "version": "3.12.7"
  }
 },
 "nbformat": 4,
 "nbformat_minor": 5
}
